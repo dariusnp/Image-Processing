{
 "cells": [
  {
   "cell_type": "markdown",
   "metadata": {},
   "source": [
    "# 1. Pseudocoloring\n",
    "\n",
    "\n",
    " Graylevel images are indexed images. So the value of the pixel is an index (an address) from a colormap. For graylevel images the colormap has gray levels from black (Red = Green = Blue = 0) to white (Red = Green = Blue = 1).\n",
    " \n",
    " Using the colormap concept, we can apply pseudocoloring (coloring the image with 'false' colors for enhancing certain aspects). In order to pseudocolor an image, the gray level colormap can be replaced with another colormap that contains colors.\n",
    " "
   ]
  },
  {
   "cell_type": "markdown",
   "metadata": {},
   "source": [
    "Ex 1.1. Make an image and visualize it with different colormaps."
   ]
  },
  {
   "cell_type": "code",
   "execution_count": null,
   "metadata": {},
   "outputs": [],
   "source": [
    "import numpy as np\n",
    "import matplotlib.pyplot as plt\n",
    "import matplotlib as mpl\n",
    "\n",
    "# the image is\n",
    "img = np.array([[0,1,2],[3,4,5],[6,7,8]])\n",
    "\n",
    "# a colormap with colors\n",
    "colormap = np.array([[1.0,0.0,0.0],[0.0,1.0,0.0],[0.0,0.0,1.0],[0,0,0],[0.5,0.5,0.5],[1,1,1],[1,0,1],[0,1,1],[0.5,1,0.25]])\n",
    "colormap = mpl.colors.ListedColormap(colormap)\n",
    "\n",
    "# display with gray colormap\n",
    "# notice that the imshow function automatically scaled the colormap \n",
    "# so that the values from 0 to 8 to cover all the range of colors from black to white\n",
    "plt.figure(), plt.imshow(img,cmap='gray')\n",
    "\n",
    "# modify the colormap for pseudocoloring\n",
    "plt.figure(), plt.imshow(img,cmap=colormap)"
   ]
  },
  {
   "cell_type": "markdown",
   "metadata": {},
   "source": [
    "Modify the values from the image and from the colormap and see what happens. \n",
    " \n",
    "Note: the values from the colormap have to be in the range [0,1]. "
   ]
  },
  {
   "cell_type": "markdown",
   "metadata": {},
   "source": [
    "Ex 1.2. Read the image 'lena.png', convert it to graylevels and visualize it with different colormaps."
   ]
  },
  {
   "cell_type": "code",
   "execution_count": null,
   "metadata": {},
   "outputs": [],
   "source": [
    "# Import skimage and matplotlib\n",
    "from skimage import io,color\n",
    "import matplotlib.pyplot as plt\n",
    "\n",
    "# read the image\n",
    "img = io.imread('lena.png')\n",
    "# Check the type of data in the image\n",
    "print(img.dtype)\n",
    "# Show the original image\n",
    "plt.figure(),plt.imshow(img)\n",
    "\n",
    "# convert to graylevels\n",
    "img_gray = color.rgb2gray(img)\n",
    "# check the type of data in the image after conversion\n",
    "print(img_gray.dtype)\n",
    "# Show the image with gray levels\n",
    "plt.figure(),plt.imshow(img_gray,cmap='gray')\n",
    "# Pseudocolor with different colormap\n",
    "plt.figure(),plt.imshow(img_gray,cmap='jet')"
   ]
  },
  {
   "cell_type": "markdown",
   "metadata": {},
   "source": [
    "What type of values does the img matrix have? What about the img_gray matrix?"
   ]
  },
  {
   "cell_type": "code",
   "execution_count": null,
   "metadata": {},
   "outputs": [],
   "source": [
    "print(img.shape)\n",
    "\n",
    "print(img[0,0])\n",
    "\n",
    "print(img_gray.shape)\n",
    "\n",
    "print(img_gray[0,0])"
   ]
  },
  {
   "cell_type": "markdown",
   "metadata": {},
   "source": [
    "Ex 1.3. Read the image 'lena_gray.jpeg' and look at the shape and type of data in that image. What do you notice? Is the image stored with 3 color channels? Do you still need to convert it to graylevels?"
   ]
  },
  {
   "cell_type": "code",
   "execution_count": null,
   "metadata": {},
   "outputs": [],
   "source": [
    "# Import skimage and matplotlib\n",
    "\n",
    "\n",
    "# read the image\n",
    "\n",
    "# Check the type of data and the shape of the image\n",
    "\n",
    "# Show the original image\n",
    "\n"
   ]
  },
  {
   "cell_type": "markdown",
   "metadata": {},
   "source": [
    "Ex 1.4. Create a 128 x 128 pixel image and its corresponding colormap with 128 colours which range from black to pure red (the column has the same colour from top to bottom).\n",
    "\n",
    "<img src=\"ex4a.jpg\">"
   ]
  },
  {
   "cell_type": "code",
   "execution_count": null,
   "metadata": {},
   "outputs": [],
   "source": [
    "# Import matplotlib, pyplot (separate from matplotlib, since that is the way we will use it), and numpy\n",
    "import numpy as np\n",
    "import matplotlib as mpl\n",
    "import matplotlib.pyplot as plt\n",
    "\n",
    "# How to create an array filled with zeros\n",
    "img = np.zeros([128,128])\n",
    "colormap = np.zeros([128,3])\n",
    "\n",
    "# Create the image here\n",
    "\n",
    "\n",
    "# Create the colormap here\n",
    "\n",
    "\n",
    "\n",
    "# Display the image\n",
    "\n"
   ]
  },
  {
   "cell_type": "markdown",
   "metadata": {},
   "source": [
    "Ex 1.5. Create a 256 x 256 pixel image and its corresponding colormap with 256 colours which range from black to pure red and then to yellow (red + green).<br>\n",
    "<img src=\"ex4b1.jpg\">"
   ]
  },
  {
   "cell_type": "code",
   "execution_count": null,
   "metadata": {},
   "outputs": [],
   "source": [
    "# Import relevant libraries\n",
    "\n",
    "\n",
    "\n",
    "# Create the empty array\n",
    "\n",
    "\n",
    "\n",
    "# Create the image here\n",
    "\n",
    "\n",
    "\n",
    "# Create the colormap here\n",
    "\n",
    "\n",
    "    \n",
    "    \n",
    "# Display the image\n"
   ]
  },
  {
   "cell_type": "markdown",
   "metadata": {},
   "source": [
    "Ex 1.6. Read the 'lena_gray.jpeg'. Crop the lower-right corner of the image and show it in a different canvas.\n",
    "\n",
    "Hint: Try to use sliceing, not a for loop "
   ]
  },
  {
   "cell_type": "code",
   "execution_count": null,
   "metadata": {},
   "outputs": [],
   "source": [
    "# Import skimage and matplotlib\n",
    "\n",
    "# read the image\n",
    "\n",
    "# show the image\n",
    "\n",
    "# get the number of lines and columns from the image\n",
    "h, w = img.shape\n",
    "print(h)\n",
    "print(w)\n",
    "\n",
    "# crop the lower-right corner of the image\n",
    "\n",
    "# show the lower-right corner of the image"
   ]
  },
  {
   "cell_type": "markdown",
   "metadata": {},
   "source": [
    "## 2. Enhancement\n",
    "\n",
    "Enhancing -> increasing the vizibility of the elements from the image.\n",
    "\n",
    "Point operations = methods that map the input pixels into the output pixels with an one-to-one relationship. Thus for computing the new, enhanced value of the pixel, we apply a mathematical function to the old, initial pixel. The function takes into account only the initial value of the pixel. "
   ]
  },
  {
   "cell_type": "markdown",
   "metadata": {},
   "source": [
    "## Piecewise linear contrast stretching\n",
    "\n",
    "The contrast is the difference in brightness (gray level intensity) between the pixels in a region of interest. The bigger the contrast, the better the vizibility of the elements from the images. Piecewise linear contrast stretching is defined as:\n",
    "<br><br>\n",
    "\n",
    "$$\\large v=\\begin{equation}\n",
    "\\left\\{ \n",
    "  \\begin{aligned}\n",
    "    &\\frac{T_{1}}{a}\\,u,   \\quad  u=[0,a) \\\\\n",
    "    &T_{1}+\\frac{T_{2}-T_{1}}{b-a}\\,(u-a),   \\quad  u=[a,b) \\\\\n",
    "    &T_{2}+\\frac{L-1-T_{2}}{L-1-b}\\,(u-b),   \\quad  u=[b,L) \\\\\n",
    "  \\end{aligned}\n",
    "  \\right.\n",
    "\\end{equation}\n",
    "$$\n",
    "\n",
    "\n",
    "</p><br>\n",
    "\n",
    "The parameters that will affect the resulting image are <b>(a, b, T1, T2).</b> From the way this function is defined there are 3 segments of line (linear functions):  ( [0,0], [a,T1] ),  ( [a,T1], [b,T2] ),  ( [b,T2], [L-1,L-1] ). The graphical representation can be seen in figure 1. Depending on the parameters (a,b) and (T1,T2) the contrast can be increased or decreased on certain gray level ranges. If the slope of the graphic is below 1 the contrast is decreased. If the slope is above 1, the contrast is increased. \n",
    "\n",
    "<br><br><br>\n",
    "\n",
    "<figure>\n",
    "    <img src='imag_2.png' width=600><br>\n",
    "    <center><b>Figure 1. </b>Piecewise linear contrast stretching</center>\n",
    "</figure>\n",
    "<br><br><br>\n",
    "\n"
   ]
  },
  {
   "cell_type": "markdown",
   "metadata": {},
   "source": [
    "Ex 2.1. Implement the piecewise linear contrast stretching by using the mathematical function on every pixel in the image. \n",
    "Read the image 'lena_gray.jpeg' and apply the function on it with:\n",
    "a) a=140, b=200, T1=70, T2=230 \n",
    "b) a=20, b=220, T1=70, T2=160\n",
    "\n",
    "Observe the resulting image. "
   ]
  },
  {
   "cell_type": "code",
   "execution_count": null,
   "metadata": {},
   "outputs": [],
   "source": [
    "from skimage import io\n",
    "import numpy as np\n",
    "import matplotlib.pyplot as plt\n",
    "import time\n",
    "\n",
    "# the function that applies the transform for a pixel in the image\n",
    "def new_val_current_pixel():\n",
    "    \n",
    "    ### the input parameters should be (a,b,T1,T2), current value of the pixel, total number of gray levels \n",
    "    ### the output should be the new value in the current pixel\n",
    "\n",
    "# function that will apply the transform on all the image\n",
    "def apply_linear_contrast():\n",
    "    \n",
    "    ### the input parameters should be (a,b,T1,T2), total number of gray levels, input image and image shape\n",
    "    ### the output should be the enhanced image\n",
    "\n",
    "    \n",
    "    \n",
    "# read the image\n",
    "img = io.imread('lena_gray.jpeg')\n",
    "\n",
    "# show the original image\n",
    "plt.figure(),plt.imshow(img, cmap='gray')\n",
    "\n",
    "# process the image\n",
    "\n",
    "# show the resulting image"
   ]
  },
  {
   "cell_type": "markdown",
   "metadata": {},
   "source": [
    "Bonus: can you write the method for piecewise linear contrast stretching in a more efficient way?"
   ]
  },
  {
   "cell_type": "code",
   "execution_count": null,
   "metadata": {},
   "outputs": [],
   "source": []
  }
 ],
 "metadata": {
  "kernelspec": {
   "display_name": "Python 3 (ipykernel)",
   "language": "python",
   "name": "python3"
  },
  "language_info": {
   "codemirror_mode": {
    "name": "ipython",
    "version": 3
   },
   "file_extension": ".py",
   "mimetype": "text/x-python",
   "name": "python",
   "nbconvert_exporter": "python",
   "pygments_lexer": "ipython3",
   "version": "3.9.12"
  }
 },
 "nbformat": 4,
 "nbformat_minor": 4
}
